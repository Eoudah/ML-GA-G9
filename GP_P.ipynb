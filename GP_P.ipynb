{
 "cells": [
  {
   "cell_type": "markdown",
   "metadata": {},
   "source": [
    "# 📌 Step 1: Importing Libraries & Loading the Data\n",
    "We start by importing the necessary Python libraries for data manipulation, visualization, and machine learning.\n",
    "\n",
    "- **pandas**: For handling tabular data.\n",
    "- **numpy**: For numerical operations.\n",
    "- **seaborn & matplotlib**: For visualizing trends.\n",
    "- **sklearn**: For machine learning model building.\n",
    "\n",
    "Next, we load the **penguins dataset** which contains physical measurements and species information.\n"
   ]
  },
  {
   "cell_type": "code",
   "execution_count": 92,
   "metadata": {},
   "outputs": [
    {
     "name": "stdout",
     "output_type": "stream",
     "text": [
      "<class 'pandas.core.frame.DataFrame'>\n",
      "RangeIndex: 333 entries, 0 to 332\n",
      "Data columns (total 7 columns):\n",
      " #   Column             Non-Null Count  Dtype  \n",
      "---  ------             --------------  -----  \n",
      " 0   species            333 non-null    object \n",
      " 1   island             333 non-null    object \n",
      " 2   bill_length_mm     333 non-null    float64\n",
      " 3   bill_depth_mm      333 non-null    float64\n",
      " 4   flipper_length_mm  333 non-null    int64  \n",
      " 5   body_mass_g        333 non-null    int64  \n",
      " 6   sex                333 non-null    object \n",
      "dtypes: float64(2), int64(2), object(3)\n",
      "memory usage: 18.3+ KB\n",
      "None\n",
      "       bill_length_mm  bill_depth_mm  flipper_length_mm  body_mass_g\n",
      "count      333.000000     333.000000         333.000000   333.000000\n",
      "mean        43.992793      17.164865         200.966967  4207.057057\n",
      "std          5.468668       1.969235          14.015765   805.215802\n",
      "min         32.100000      13.100000         172.000000  2700.000000\n",
      "25%         39.500000      15.600000         190.000000  3550.000000\n",
      "50%         44.500000      17.300000         197.000000  4050.000000\n",
      "75%         48.600000      18.700000         213.000000  4775.000000\n",
      "max         59.600000      21.500000         231.000000  6300.000000\n"
     ]
    },
    {
     "data": {
      "text/html": [
       "<div>\n",
       "<style scoped>\n",
       "    .dataframe tbody tr th:only-of-type {\n",
       "        vertical-align: middle;\n",
       "    }\n",
       "\n",
       "    .dataframe tbody tr th {\n",
       "        vertical-align: top;\n",
       "    }\n",
       "\n",
       "    .dataframe thead th {\n",
       "        text-align: right;\n",
       "    }\n",
       "</style>\n",
       "<table border=\"1\" class=\"dataframe\">\n",
       "  <thead>\n",
       "    <tr style=\"text-align: right;\">\n",
       "      <th></th>\n",
       "      <th>species</th>\n",
       "      <th>island</th>\n",
       "      <th>bill_length_mm</th>\n",
       "      <th>bill_depth_mm</th>\n",
       "      <th>flipper_length_mm</th>\n",
       "      <th>body_mass_g</th>\n",
       "      <th>sex</th>\n",
       "    </tr>\n",
       "  </thead>\n",
       "  <tbody>\n",
       "    <tr>\n",
       "      <th>0</th>\n",
       "      <td>Adelie</td>\n",
       "      <td>Torgersen</td>\n",
       "      <td>39.1</td>\n",
       "      <td>18.7</td>\n",
       "      <td>181</td>\n",
       "      <td>3750</td>\n",
       "      <td>male</td>\n",
       "    </tr>\n",
       "    <tr>\n",
       "      <th>1</th>\n",
       "      <td>Adelie</td>\n",
       "      <td>Torgersen</td>\n",
       "      <td>39.5</td>\n",
       "      <td>17.4</td>\n",
       "      <td>186</td>\n",
       "      <td>3800</td>\n",
       "      <td>female</td>\n",
       "    </tr>\n",
       "    <tr>\n",
       "      <th>2</th>\n",
       "      <td>Adelie</td>\n",
       "      <td>Torgersen</td>\n",
       "      <td>40.3</td>\n",
       "      <td>18.0</td>\n",
       "      <td>195</td>\n",
       "      <td>3250</td>\n",
       "      <td>female</td>\n",
       "    </tr>\n",
       "    <tr>\n",
       "      <th>3</th>\n",
       "      <td>Adelie</td>\n",
       "      <td>Torgersen</td>\n",
       "      <td>36.7</td>\n",
       "      <td>19.3</td>\n",
       "      <td>193</td>\n",
       "      <td>3450</td>\n",
       "      <td>female</td>\n",
       "    </tr>\n",
       "    <tr>\n",
       "      <th>4</th>\n",
       "      <td>Adelie</td>\n",
       "      <td>Torgersen</td>\n",
       "      <td>39.3</td>\n",
       "      <td>20.6</td>\n",
       "      <td>190</td>\n",
       "      <td>3650</td>\n",
       "      <td>male</td>\n",
       "    </tr>\n",
       "  </tbody>\n",
       "</table>\n",
       "</div>"
      ],
      "text/plain": [
       "  species     island  bill_length_mm  bill_depth_mm  flipper_length_mm  \\\n",
       "0  Adelie  Torgersen            39.1           18.7                181   \n",
       "1  Adelie  Torgersen            39.5           17.4                186   \n",
       "2  Adelie  Torgersen            40.3           18.0                195   \n",
       "3  Adelie  Torgersen            36.7           19.3                193   \n",
       "4  Adelie  Torgersen            39.3           20.6                190   \n",
       "\n",
       "   body_mass_g     sex  \n",
       "0         3750    male  \n",
       "1         3800  female  \n",
       "2         3250  female  \n",
       "3         3450  female  \n",
       "4         3650    male  "
      ]
     },
     "execution_count": 92,
     "metadata": {},
     "output_type": "execute_result"
    }
   ],
   "source": [
    "# Import necessary libraries\n",
    "import pandas as pd\n",
    "import numpy as np\n",
    "import seaborn as sns\n",
    "import matplotlib.pyplot as plt\n",
    "\n",
    "# Load dataset\n",
    "df = pd.read_csv(r\"C:\\Users\\eouda\\Desktop\\IE MBD\\Term 2\\Machine Learning\\PDAI\\Group_data\\penguins_cleaned.csv\")\n",
    "\n",
    "# Display basic info\n",
    "print(df.info())  # Check data types and missing values\n",
    "print(df.describe())  # Summary statistics\n",
    "\n",
    "# Show first few rows\n",
    "df.head()\n"
   ]
  },
  {
   "cell_type": "markdown",
   "metadata": {},
   "source": [
    "# 📌 Step 2: Exploratory Data Analysis (EDA)\n",
    "Before proceeding with data modeling, we need to explore the dataset to understand:\n",
    "1. **Missing values** - Checking for null values.\n",
    "2. **Basic statistics** - Understanding mean, min, max, and distribution.\n",
    "3. **Data types** - Ensuring numerical & categorical values are handled properly.\n"
   ]
  },
  {
   "cell_type": "code",
   "execution_count": 93,
   "metadata": {},
   "outputs": [
    {
     "data": {
      "text/plain": [
       "species              0\n",
       "island               0\n",
       "bill_length_mm       0\n",
       "bill_depth_mm        0\n",
       "flipper_length_mm    0\n",
       "body_mass_g          0\n",
       "sex                  0\n",
       "dtype: int64"
      ]
     },
     "execution_count": 93,
     "metadata": {},
     "output_type": "execute_result"
    }
   ],
   "source": [
    "# check for missing values\n",
    "\n",
    "df.isnull().sum()"
   ]
  },
  {
   "cell_type": "markdown",
   "metadata": {},
   "source": [
    " # 📌 Step 3: : Visualizing the Effect of Species and sex on Body Mass\n",
    "\n",
    "Before encoding the categorical variable **species**, we first analyze whether species has a significant effect on **body_mass_g**. This helps us determine if including species as a feature will improve the model’s predictive power. \n",
    "\n",
    "### **Method**\n",
    "We use a **box plot** to compare the distribution of body mass for each species and for each sex\n",
    "\n",
    "### **Findings**\n",
    "- The **Gentoo** species has the highest body mass on average, with values ranging from approximately **4000g to over 6000g**.\n",
    "- The **Adelie** species has a lower body mass distribution, mostly between **3000g and 4500g**.\n",
    "- The **Chinstrap** species shows the lowest body mass values, mostly between **3000g and 4000g**, with some outliers.\n",
    "\n",
    "### **Conclusion**\n",
    "This visualization confirms that **species has a strong impact on body mass**. Therefore, it is beneficial to encode this categorical variable and include it in our model.\n"
   ]
  },
  {
   "cell_type": "code",
   "execution_count": 94,
   "metadata": {},
   "outputs": [
    {
     "data": {
      "image/png": "[encoded data removed]",
      "text/plain": [
       "<Figure size 800x500 with 1 Axes>"
      ]
     },
     "metadata": {},
     "output_type": "display_data"
    }
   ],
   "source": [
    "\n",
    "\n",
    "# Create a box plot to visualize species impact on body mass\n",
    "plt.figure(figsize=(8, 5))\n",
    "sns.boxplot(x=df[\"species\"], y=df[\"body_mass_g\"])\n",
    "plt.title(\"Body Mass Distribution by Species\")\n",
    "plt.xlabel(\"Species\")\n",
    "plt.ylabel(\"Body Mass (g)\")\n",
    "plt.show()\n"
   ]
  },
  {
   "cell_type": "code",
   "execution_count": 95,
   "metadata": {},
   "outputs": [
    {
     "data": {
      "image/png": "[encoded data removed]",
      "text/plain": [
       "<Figure size 800x500 with 1 Axes>"
      ]
     },
     "metadata": {},
     "output_type": "display_data"
    }
   ],
   "source": [
    "# Create a box plot to visualize species impact on body mass\n",
    "plt.figure(figsize=(8, 5))\n",
    "sns.boxplot(x=df[\"sex\"], y=df[\"body_mass_g\"])\n",
    "plt.title(\"Body Mass Distribution by Sex\")\n",
    "plt.xlabel(\"sex\")\n",
    "plt.ylabel(\"Body Mass (g)\")\n",
    "plt.show()"
   ]
  },
  {
   "cell_type": "markdown",
   "metadata": {},
   "source": [
    "## Findings\n",
    "\n",
    "- **Male** penguins have a higher body mass on average, with values ranging from approximately **3500g to over 6000g**.\n",
    "- **Female** penguins tend to have a lower body mass distribution, mostly between **3000g and 5000g**.\n",
    "- The **median body mass** of males is noticeably higher than that of females, indicating a significant difference in body mass between sexes.\n",
    "\n",
    "## Conclusion\n",
    "\n",
    "This visualization confirms that **sex has a strong impact on body mass**. Therefore, it is beneficial to encode this categorical variable and include it in our model.\n"
   ]
  },
  {
   "cell_type": "markdown",
   "metadata": {},
   "source": [
    "# 📌 Step 4: Encoding Categorical Variables\n",
    "Machine learning models work with **numerical data**, so categorical columns like `species` `sex` must be converted using **one-hot encoding**.\n",
    "\n",
    "- Each species (Adelie, Chinstrap, Gentoo) is transformed into separate binary (0/1) columns.\n",
    "- This allows the model to recognize species influence on body mass.\n"
   ]
  },
  {
   "cell_type": "code",
   "execution_count": 96,
   "metadata": {},
   "outputs": [
    {
     "data": {
      "text/html": [
       "<div>\n",
       "<style scoped>\n",
       "    .dataframe tbody tr th:only-of-type {\n",
       "        vertical-align: middle;\n",
       "    }\n",
       "\n",
       "    .dataframe tbody tr th {\n",
       "        vertical-align: top;\n",
       "    }\n",
       "\n",
       "    .dataframe thead th {\n",
       "        text-align: right;\n",
       "    }\n",
       "</style>\n",
       "<table border=\"1\" class=\"dataframe\">\n",
       "  <thead>\n",
       "    <tr style=\"text-align: right;\">\n",
       "      <th></th>\n",
       "      <th>island</th>\n",
       "      <th>bill_length_mm</th>\n",
       "      <th>bill_depth_mm</th>\n",
       "      <th>flipper_length_mm</th>\n",
       "      <th>body_mass_g</th>\n",
       "      <th>sex</th>\n",
       "      <th>species_Adelie</th>\n",
       "      <th>species_Chinstrap</th>\n",
       "      <th>species_Gentoo</th>\n",
       "    </tr>\n",
       "  </thead>\n",
       "  <tbody>\n",
       "    <tr>\n",
       "      <th>0</th>\n",
       "      <td>Torgersen</td>\n",
       "      <td>39.1</td>\n",
       "      <td>18.7</td>\n",
       "      <td>181</td>\n",
       "      <td>3750</td>\n",
       "      <td>male</td>\n",
       "      <td>True</td>\n",
       "      <td>False</td>\n",
       "      <td>False</td>\n",
       "    </tr>\n",
       "    <tr>\n",
       "      <th>1</th>\n",
       "      <td>Torgersen</td>\n",
       "      <td>39.5</td>\n",
       "      <td>17.4</td>\n",
       "      <td>186</td>\n",
       "      <td>3800</td>\n",
       "      <td>female</td>\n",
       "      <td>True</td>\n",
       "      <td>False</td>\n",
       "      <td>False</td>\n",
       "    </tr>\n",
       "    <tr>\n",
       "      <th>2</th>\n",
       "      <td>Torgersen</td>\n",
       "      <td>40.3</td>\n",
       "      <td>18.0</td>\n",
       "      <td>195</td>\n",
       "      <td>3250</td>\n",
       "      <td>female</td>\n",
       "      <td>True</td>\n",
       "      <td>False</td>\n",
       "      <td>False</td>\n",
       "    </tr>\n",
       "    <tr>\n",
       "      <th>3</th>\n",
       "      <td>Torgersen</td>\n",
       "      <td>36.7</td>\n",
       "      <td>19.3</td>\n",
       "      <td>193</td>\n",
       "      <td>3450</td>\n",
       "      <td>female</td>\n",
       "      <td>True</td>\n",
       "      <td>False</td>\n",
       "      <td>False</td>\n",
       "    </tr>\n",
       "    <tr>\n",
       "      <th>4</th>\n",
       "      <td>Torgersen</td>\n",
       "      <td>39.3</td>\n",
       "      <td>20.6</td>\n",
       "      <td>190</td>\n",
       "      <td>3650</td>\n",
       "      <td>male</td>\n",
       "      <td>True</td>\n",
       "      <td>False</td>\n",
       "      <td>False</td>\n",
       "    </tr>\n",
       "  </tbody>\n",
       "</table>\n",
       "</div>"
      ],
      "text/plain": [
       "      island  bill_length_mm  bill_depth_mm  flipper_length_mm  body_mass_g  \\\n",
       "0  Torgersen            39.1           18.7                181         3750   \n",
       "1  Torgersen            39.5           17.4                186         3800   \n",
       "2  Torgersen            40.3           18.0                195         3250   \n",
       "3  Torgersen            36.7           19.3                193         3450   \n",
       "4  Torgersen            39.3           20.6                190         3650   \n",
       "\n",
       "      sex  species_Adelie  species_Chinstrap  species_Gentoo  \n",
       "0    male            True              False           False  \n",
       "1  female            True              False           False  \n",
       "2  female            True              False           False  \n",
       "3  female            True              False           False  \n",
       "4    male            True              False           False  "
      ]
     },
     "execution_count": 96,
     "metadata": {},
     "output_type": "execute_result"
    }
   ],
   "source": [
    "# One-hot encode species column\n",
    "df_encoded1 = pd.get_dummies(df, columns=[\"species\"], drop_first=False)\n",
    "\n",
    "# Display first few rows\n",
    "df_encoded1.head()\n"
   ]
  },
  {
   "cell_type": "code",
   "execution_count": 97,
   "metadata": {},
   "outputs": [
    {
     "data": {
      "text/html": [
       "<div>\n",
       "<style scoped>\n",
       "    .dataframe tbody tr th:only-of-type {\n",
       "        vertical-align: middle;\n",
       "    }\n",
       "\n",
       "    .dataframe tbody tr th {\n",
       "        vertical-align: top;\n",
       "    }\n",
       "\n",
       "    .dataframe thead th {\n",
       "        text-align: right;\n",
       "    }\n",
       "</style>\n",
       "<table border=\"1\" class=\"dataframe\">\n",
       "  <thead>\n",
       "    <tr style=\"text-align: right;\">\n",
       "      <th></th>\n",
       "      <th>species</th>\n",
       "      <th>island</th>\n",
       "      <th>bill_length_mm</th>\n",
       "      <th>bill_depth_mm</th>\n",
       "      <th>flipper_length_mm</th>\n",
       "      <th>body_mass_g</th>\n",
       "      <th>sex_female</th>\n",
       "      <th>sex_male</th>\n",
       "    </tr>\n",
       "  </thead>\n",
       "  <tbody>\n",
       "    <tr>\n",
       "      <th>0</th>\n",
       "      <td>Adelie</td>\n",
       "      <td>Torgersen</td>\n",
       "      <td>39.1</td>\n",
       "      <td>18.7</td>\n",
       "      <td>181</td>\n",
       "      <td>3750</td>\n",
       "      <td>False</td>\n",
       "      <td>True</td>\n",
       "    </tr>\n",
       "    <tr>\n",
       "      <th>1</th>\n",
       "      <td>Adelie</td>\n",
       "      <td>Torgersen</td>\n",
       "      <td>39.5</td>\n",
       "      <td>17.4</td>\n",
       "      <td>186</td>\n",
       "      <td>3800</td>\n",
       "      <td>True</td>\n",
       "      <td>False</td>\n",
       "    </tr>\n",
       "    <tr>\n",
       "      <th>2</th>\n",
       "      <td>Adelie</td>\n",
       "      <td>Torgersen</td>\n",
       "      <td>40.3</td>\n",
       "      <td>18.0</td>\n",
       "      <td>195</td>\n",
       "      <td>3250</td>\n",
       "      <td>True</td>\n",
       "      <td>False</td>\n",
       "    </tr>\n",
       "    <tr>\n",
       "      <th>3</th>\n",
       "      <td>Adelie</td>\n",
       "      <td>Torgersen</td>\n",
       "      <td>36.7</td>\n",
       "      <td>19.3</td>\n",
       "      <td>193</td>\n",
       "      <td>3450</td>\n",
       "      <td>True</td>\n",
       "      <td>False</td>\n",
       "    </tr>\n",
       "    <tr>\n",
       "      <th>4</th>\n",
       "      <td>Adelie</td>\n",
       "      <td>Torgersen</td>\n",
       "      <td>39.3</td>\n",
       "      <td>20.6</td>\n",
       "      <td>190</td>\n",
       "      <td>3650</td>\n",
       "      <td>False</td>\n",
       "      <td>True</td>\n",
       "    </tr>\n",
       "  </tbody>\n",
       "</table>\n",
       "</div>"
      ],
      "text/plain": [
       "  species     island  bill_length_mm  bill_depth_mm  flipper_length_mm  \\\n",
       "0  Adelie  Torgersen            39.1           18.7                181   \n",
       "1  Adelie  Torgersen            39.5           17.4                186   \n",
       "2  Adelie  Torgersen            40.3           18.0                195   \n",
       "3  Adelie  Torgersen            36.7           19.3                193   \n",
       "4  Adelie  Torgersen            39.3           20.6                190   \n",
       "\n",
       "   body_mass_g  sex_female  sex_male  \n",
       "0         3750       False      True  \n",
       "1         3800        True     False  \n",
       "2         3250        True     False  \n",
       "3         3450        True     False  \n",
       "4         3650       False      True  "
      ]
     },
     "execution_count": 97,
     "metadata": {},
     "output_type": "execute_result"
    }
   ],
   "source": [
    "# One-hot encode sex column\n",
    "df_encoded2 = pd.get_dummies(df, columns=[\"sex\"], drop_first=False)\n",
    "\n",
    "# Display first few rows\n",
    "df_encoded2.head()\n"
   ]
  },
  {
   "cell_type": "code",
   "execution_count": 98,
   "metadata": {},
   "outputs": [],
   "source": [
    "df_encoded1 = df_encoded1.drop(columns=[\"island\", 'sex'])\n"
   ]
  },
  {
   "cell_type": "code",
   "execution_count": 99,
   "metadata": {},
   "outputs": [],
   "source": [
    "df_encoded2 = df_encoded2.drop(columns=[\"island\", \"species\", 'bill_length_mm', 'bill_depth_mm', 'flipper_length_mm', 'body_mass_g'])"
   ]
  },
  {
   "cell_type": "code",
   "execution_count": 100,
   "metadata": {},
   "outputs": [
    {
     "data": {
      "text/html": [
       "<div>\n",
       "<style scoped>\n",
       "    .dataframe tbody tr th:only-of-type {\n",
       "        vertical-align: middle;\n",
       "    }\n",
       "\n",
       "    .dataframe tbody tr th {\n",
       "        vertical-align: top;\n",
       "    }\n",
       "\n",
       "    .dataframe thead th {\n",
       "        text-align: right;\n",
       "    }\n",
       "</style>\n",
       "<table border=\"1\" class=\"dataframe\">\n",
       "  <thead>\n",
       "    <tr style=\"text-align: right;\">\n",
       "      <th></th>\n",
       "      <th>bill_length_mm</th>\n",
       "      <th>bill_depth_mm</th>\n",
       "      <th>flipper_length_mm</th>\n",
       "      <th>body_mass_g</th>\n",
       "      <th>species_Adelie</th>\n",
       "      <th>species_Chinstrap</th>\n",
       "      <th>species_Gentoo</th>\n",
       "    </tr>\n",
       "  </thead>\n",
       "  <tbody>\n",
       "    <tr>\n",
       "      <th>0</th>\n",
       "      <td>39.1</td>\n",
       "      <td>18.7</td>\n",
       "      <td>181</td>\n",
       "      <td>3750</td>\n",
       "      <td>True</td>\n",
       "      <td>False</td>\n",
       "      <td>False</td>\n",
       "    </tr>\n",
       "    <tr>\n",
       "      <th>1</th>\n",
       "      <td>39.5</td>\n",
       "      <td>17.4</td>\n",
       "      <td>186</td>\n",
       "      <td>3800</td>\n",
       "      <td>True</td>\n",
       "      <td>False</td>\n",
       "      <td>False</td>\n",
       "    </tr>\n",
       "    <tr>\n",
       "      <th>2</th>\n",
       "      <td>40.3</td>\n",
       "      <td>18.0</td>\n",
       "      <td>195</td>\n",
       "      <td>3250</td>\n",
       "      <td>True</td>\n",
       "      <td>False</td>\n",
       "      <td>False</td>\n",
       "    </tr>\n",
       "    <tr>\n",
       "      <th>3</th>\n",
       "      <td>36.7</td>\n",
       "      <td>19.3</td>\n",
       "      <td>193</td>\n",
       "      <td>3450</td>\n",
       "      <td>True</td>\n",
       "      <td>False</td>\n",
       "      <td>False</td>\n",
       "    </tr>\n",
       "    <tr>\n",
       "      <th>4</th>\n",
       "      <td>39.3</td>\n",
       "      <td>20.6</td>\n",
       "      <td>190</td>\n",
       "      <td>3650</td>\n",
       "      <td>True</td>\n",
       "      <td>False</td>\n",
       "      <td>False</td>\n",
       "    </tr>\n",
       "  </tbody>\n",
       "</table>\n",
       "</div>"
      ],
      "text/plain": [
       "   bill_length_mm  bill_depth_mm  flipper_length_mm  body_mass_g  \\\n",
       "0            39.1           18.7                181         3750   \n",
       "1            39.5           17.4                186         3800   \n",
       "2            40.3           18.0                195         3250   \n",
       "3            36.7           19.3                193         3450   \n",
       "4            39.3           20.6                190         3650   \n",
       "\n",
       "   species_Adelie  species_Chinstrap  species_Gentoo  \n",
       "0            True              False           False  \n",
       "1            True              False           False  \n",
       "2            True              False           False  \n",
       "3            True              False           False  \n",
       "4            True              False           False  "
      ]
     },
     "execution_count": 100,
     "metadata": {},
     "output_type": "execute_result"
    }
   ],
   "source": [
    "df_encoded1.head()"
   ]
  },
  {
   "cell_type": "code",
   "execution_count": 101,
   "metadata": {},
   "outputs": [
    {
     "data": {
      "text/html": [
       "<div>\n",
       "<style scoped>\n",
       "    .dataframe tbody tr th:only-of-type {\n",
       "        vertical-align: middle;\n",
       "    }\n",
       "\n",
       "    .dataframe tbody tr th {\n",
       "        vertical-align: top;\n",
       "    }\n",
       "\n",
       "    .dataframe thead th {\n",
       "        text-align: right;\n",
       "    }\n",
       "</style>\n",
       "<table border=\"1\" class=\"dataframe\">\n",
       "  <thead>\n",
       "    <tr style=\"text-align: right;\">\n",
       "      <th></th>\n",
       "      <th>sex_female</th>\n",
       "      <th>sex_male</th>\n",
       "    </tr>\n",
       "  </thead>\n",
       "  <tbody>\n",
       "    <tr>\n",
       "      <th>0</th>\n",
       "      <td>False</td>\n",
       "      <td>True</td>\n",
       "    </tr>\n",
       "    <tr>\n",
       "      <th>1</th>\n",
       "      <td>True</td>\n",
       "      <td>False</td>\n",
       "    </tr>\n",
       "    <tr>\n",
       "      <th>2</th>\n",
       "      <td>True</td>\n",
       "      <td>False</td>\n",
       "    </tr>\n",
       "    <tr>\n",
       "      <th>3</th>\n",
       "      <td>True</td>\n",
       "      <td>False</td>\n",
       "    </tr>\n",
       "    <tr>\n",
       "      <th>4</th>\n",
       "      <td>False</td>\n",
       "      <td>True</td>\n",
       "    </tr>\n",
       "  </tbody>\n",
       "</table>\n",
       "</div>"
      ],
      "text/plain": [
       "   sex_female  sex_male\n",
       "0       False      True\n",
       "1        True     False\n",
       "2        True     False\n",
       "3        True     False\n",
       "4       False      True"
      ]
     },
     "execution_count": 101,
     "metadata": {},
     "output_type": "execute_result"
    }
   ],
   "source": [
    "df_encoded2.head()"
   ]
  },
  {
   "cell_type": "code",
   "execution_count": 102,
   "metadata": {},
   "outputs": [],
   "source": [
    "df_encoded = pd.concat([df_encoded1, df_encoded2], axis=1)"
   ]
  },
  {
   "cell_type": "code",
   "execution_count": 103,
   "metadata": {},
   "outputs": [
    {
     "data": {
      "text/html": [
       "<div>\n",
       "<style scoped>\n",
       "    .dataframe tbody tr th:only-of-type {\n",
       "        vertical-align: middle;\n",
       "    }\n",
       "\n",
       "    .dataframe tbody tr th {\n",
       "        vertical-align: top;\n",
       "    }\n",
       "\n",
       "    .dataframe thead th {\n",
       "        text-align: right;\n",
       "    }\n",
       "</style>\n",
       "<table border=\"1\" class=\"dataframe\">\n",
       "  <thead>\n",
       "    <tr style=\"text-align: right;\">\n",
       "      <th></th>\n",
       "      <th>bill_length_mm</th>\n",
       "      <th>bill_depth_mm</th>\n",
       "      <th>flipper_length_mm</th>\n",
       "      <th>body_mass_g</th>\n",
       "      <th>species_Adelie</th>\n",
       "      <th>species_Chinstrap</th>\n",
       "      <th>species_Gentoo</th>\n",
       "      <th>sex_female</th>\n",
       "      <th>sex_male</th>\n",
       "    </tr>\n",
       "  </thead>\n",
       "  <tbody>\n",
       "    <tr>\n",
       "      <th>0</th>\n",
       "      <td>39.1</td>\n",
       "      <td>18.7</td>\n",
       "      <td>181</td>\n",
       "      <td>3750</td>\n",
       "      <td>True</td>\n",
       "      <td>False</td>\n",
       "      <td>False</td>\n",
       "      <td>False</td>\n",
       "      <td>True</td>\n",
       "    </tr>\n",
       "    <tr>\n",
       "      <th>1</th>\n",
       "      <td>39.5</td>\n",
       "      <td>17.4</td>\n",
       "      <td>186</td>\n",
       "      <td>3800</td>\n",
       "      <td>True</td>\n",
       "      <td>False</td>\n",
       "      <td>False</td>\n",
       "      <td>True</td>\n",
       "      <td>False</td>\n",
       "    </tr>\n",
       "    <tr>\n",
       "      <th>2</th>\n",
       "      <td>40.3</td>\n",
       "      <td>18.0</td>\n",
       "      <td>195</td>\n",
       "      <td>3250</td>\n",
       "      <td>True</td>\n",
       "      <td>False</td>\n",
       "      <td>False</td>\n",
       "      <td>True</td>\n",
       "      <td>False</td>\n",
       "    </tr>\n",
       "    <tr>\n",
       "      <th>3</th>\n",
       "      <td>36.7</td>\n",
       "      <td>19.3</td>\n",
       "      <td>193</td>\n",
       "      <td>3450</td>\n",
       "      <td>True</td>\n",
       "      <td>False</td>\n",
       "      <td>False</td>\n",
       "      <td>True</td>\n",
       "      <td>False</td>\n",
       "    </tr>\n",
       "    <tr>\n",
       "      <th>4</th>\n",
       "      <td>39.3</td>\n",
       "      <td>20.6</td>\n",
       "      <td>190</td>\n",
       "      <td>3650</td>\n",
       "      <td>True</td>\n",
       "      <td>False</td>\n",
       "      <td>False</td>\n",
       "      <td>False</td>\n",
       "      <td>True</td>\n",
       "    </tr>\n",
       "  </tbody>\n",
       "</table>\n",
       "</div>"
      ],
      "text/plain": [
       "   bill_length_mm  bill_depth_mm  flipper_length_mm  body_mass_g  \\\n",
       "0            39.1           18.7                181         3750   \n",
       "1            39.5           17.4                186         3800   \n",
       "2            40.3           18.0                195         3250   \n",
       "3            36.7           19.3                193         3450   \n",
       "4            39.3           20.6                190         3650   \n",
       "\n",
       "   species_Adelie  species_Chinstrap  species_Gentoo  sex_female  sex_male  \n",
       "0            True              False           False       False      True  \n",
       "1            True              False           False        True     False  \n",
       "2            True              False           False        True     False  \n",
       "3            True              False           False        True     False  \n",
       "4            True              False           False       False      True  "
      ]
     },
     "execution_count": 103,
     "metadata": {},
     "output_type": "execute_result"
    }
   ],
   "source": [
    "df_encoded.head()"
   ]
  },
  {
   "cell_type": "markdown",
   "metadata": {},
   "source": [
    "# 📌 Step 5: Feature Correlation Analysis\n",
    "A **heatmap** is used to visualize correlation between features.\n",
    "- Strong correlations (closer to **1 or -1**) indicate a strong linear relationship.\n",
    "- Features with very low correlation to `body_mass_g` may not be useful.\n"
   ]
  },
  {
   "cell_type": "code",
   "execution_count": 104,
   "metadata": {},
   "outputs": [
    {
     "data": {
      "image/png": "[encoded data removed]",
      "text/plain": [
       "<Figure size 800x600 with 2 Axes>"
      ]
     },
     "metadata": {},
     "output_type": "display_data"
    }
   ],
   "source": [
    "import seaborn as sns\n",
    "import matplotlib.pyplot as plt\n",
    "\n",
    "# Compute correlation\n",
    "plt.figure(figsize=(8,6))\n",
    "sns.heatmap(df_encoded.corr(), annot=True, cmap=\"coolwarm\", linewidths=0.5)\n",
    "plt.title(\"Feature Correlation Heatmap\")\n",
    "plt.show()\n"
   ]
  },
  {
   "cell_type": "markdown",
   "metadata": {},
   "source": [
    "# 📌 Step 6: Detecting & Removing Outliers\n",
    "Outliers can negatively impact the model's performance.\n",
    "- We use **boxplots** and **Interquartile Range (IQR)** to detect outliers.\n",
    "- Any values **outside 1×IQR range** are removed to ensure better model accuracy.\n"
   ]
  },
  {
   "cell_type": "code",
   "execution_count": 105,
   "metadata": {},
   "outputs": [
    {
     "data": {
      "image/png": "[encoded data removed]",
      "text/plain": [
       "<Figure size 800x600 with 1 Axes>"
      ]
     },
     "metadata": {},
     "output_type": "display_data"
    },
    {
     "data": {
      "image/png": "[encoded data removed]",
      "text/plain": [
       "<Figure size 800x600 with 1 Axes>"
      ]
     },
     "metadata": {},
     "output_type": "display_data"
    }
   ],
   "source": [
    "\n",
    "# Create a box plot for body_mass_g separately\n",
    "plt.figure(figsize=(8,6))\n",
    "df_encoded.boxplot(column=[\"body_mass_g\"])\n",
    "plt.title(\"Boxplot of Body Mass (g)\")\n",
    "plt.show()\n",
    "\n",
    "# Create a box plot for other numerical features\n",
    "plt.figure(figsize=(8,6))\n",
    "df_encoded.boxplot(column=[\"bill_length_mm\", \"bill_depth_mm\", \"flipper_length_mm\"])\n",
    "plt.xticks(rotation=45)\n",
    "plt.title(\"Boxplots of Bill & Flipper Features\")\n",
    "plt.show()\n"
   ]
  },
  {
   "cell_type": "code",
   "execution_count": 106,
   "metadata": {},
   "outputs": [
    {
     "data": {
      "text/plain": [
       "333"
      ]
     },
     "execution_count": 106,
     "metadata": {},
     "output_type": "execute_result"
    }
   ],
   "source": [
    "df_encoded.shape[0]"
   ]
  },
  {
   "cell_type": "code",
   "execution_count": 107,
   "metadata": {},
   "outputs": [],
   "source": [
    "df_cleaned = df_cleaned = df_encoded.drop(columns=['bill_depth_mm'])"
   ]
  },
  {
   "cell_type": "code",
   "execution_count": 108,
   "metadata": {},
   "outputs": [
    {
     "data": {
      "text/html": [
       "<div>\n",
       "<style scoped>\n",
       "    .dataframe tbody tr th:only-of-type {\n",
       "        vertical-align: middle;\n",
       "    }\n",
       "\n",
       "    .dataframe tbody tr th {\n",
       "        vertical-align: top;\n",
       "    }\n",
       "\n",
       "    .dataframe thead th {\n",
       "        text-align: right;\n",
       "    }\n",
       "</style>\n",
       "<table border=\"1\" class=\"dataframe\">\n",
       "  <thead>\n",
       "    <tr style=\"text-align: right;\">\n",
       "      <th></th>\n",
       "      <th>bill_length_mm</th>\n",
       "      <th>flipper_length_mm</th>\n",
       "      <th>body_mass_g</th>\n",
       "      <th>species_Adelie</th>\n",
       "      <th>species_Chinstrap</th>\n",
       "      <th>species_Gentoo</th>\n",
       "      <th>sex_female</th>\n",
       "      <th>sex_male</th>\n",
       "    </tr>\n",
       "  </thead>\n",
       "  <tbody>\n",
       "    <tr>\n",
       "      <th>0</th>\n",
       "      <td>39.1</td>\n",
       "      <td>181</td>\n",
       "      <td>3750</td>\n",
       "      <td>True</td>\n",
       "      <td>False</td>\n",
       "      <td>False</td>\n",
       "      <td>False</td>\n",
       "      <td>True</td>\n",
       "    </tr>\n",
       "    <tr>\n",
       "      <th>1</th>\n",
       "      <td>39.5</td>\n",
       "      <td>186</td>\n",
       "      <td>3800</td>\n",
       "      <td>True</td>\n",
       "      <td>False</td>\n",
       "      <td>False</td>\n",
       "      <td>True</td>\n",
       "      <td>False</td>\n",
       "    </tr>\n",
       "    <tr>\n",
       "      <th>2</th>\n",
       "      <td>40.3</td>\n",
       "      <td>195</td>\n",
       "      <td>3250</td>\n",
       "      <td>True</td>\n",
       "      <td>False</td>\n",
       "      <td>False</td>\n",
       "      <td>True</td>\n",
       "      <td>False</td>\n",
       "    </tr>\n",
       "    <tr>\n",
       "      <th>3</th>\n",
       "      <td>36.7</td>\n",
       "      <td>193</td>\n",
       "      <td>3450</td>\n",
       "      <td>True</td>\n",
       "      <td>False</td>\n",
       "      <td>False</td>\n",
       "      <td>True</td>\n",
       "      <td>False</td>\n",
       "    </tr>\n",
       "    <tr>\n",
       "      <th>4</th>\n",
       "      <td>39.3</td>\n",
       "      <td>190</td>\n",
       "      <td>3650</td>\n",
       "      <td>True</td>\n",
       "      <td>False</td>\n",
       "      <td>False</td>\n",
       "      <td>False</td>\n",
       "      <td>True</td>\n",
       "    </tr>\n",
       "  </tbody>\n",
       "</table>\n",
       "</div>"
      ],
      "text/plain": [
       "   bill_length_mm  flipper_length_mm  body_mass_g  species_Adelie  \\\n",
       "0            39.1                181         3750            True   \n",
       "1            39.5                186         3800            True   \n",
       "2            40.3                195         3250            True   \n",
       "3            36.7                193         3450            True   \n",
       "4            39.3                190         3650            True   \n",
       "\n",
       "   species_Chinstrap  species_Gentoo  sex_female  sex_male  \n",
       "0              False           False       False      True  \n",
       "1              False           False        True     False  \n",
       "2              False           False        True     False  \n",
       "3              False           False        True     False  \n",
       "4              False           False       False      True  "
      ]
     },
     "execution_count": 108,
     "metadata": {},
     "output_type": "execute_result"
    }
   ],
   "source": [
    "df_cleaned.head()"
   ]
  },
  {
   "cell_type": "code",
   "execution_count": 109,
   "metadata": {},
   "outputs": [
    {
     "name": "stdout",
     "output_type": "stream",
     "text": [
      "Remaining rows after outlier removal: 331\n"
     ]
    }
   ],
   "source": [
    "# Calculate IQR (Interquartile Range)\n",
    "Q1 = df_cleaned[\"body_mass_g\"].quantile(0.25)\n",
    "Q3 = df_cleaned[\"body_mass_g\"].quantile(0.75)\n",
    "IQR = Q3 - Q1\n",
    "\n",
    "# Define upper and lower bounds\n",
    "lower_bound = Q1 - 1 * IQR\n",
    "upper_bound = Q3 + 1 * IQR\n",
    "\n",
    "# Filter out the outliers\n",
    "df_cleaned = df_cleaned[(df_cleaned[\"body_mass_g\"] >= lower_bound) & (df_cleaned[\"body_mass_g\"] <= upper_bound)]\n",
    "\n",
    "print(f\"Remaining rows after outlier removal: {df_cleaned.shape[0]}\")\n"
   ]
  },
  {
   "cell_type": "code",
   "execution_count": 110,
   "metadata": {},
   "outputs": [
    {
     "name": "stdout",
     "output_type": "stream",
     "text": [
      "Remaining rows after outlier removal: 330\n"
     ]
    }
   ],
   "source": [
    "# Calculate IQR for bill_length_mm\n",
    "Q1_bill = df_cleaned[\"bill_length_mm\"].quantile(0.25)\n",
    "Q3_bill = df_cleaned[\"bill_length_mm\"].quantile(0.75)\n",
    "IQR_bill = Q3_bill - Q1_bill\n",
    "lower_bound_bill = Q1_bill - 1 * IQR_bill\n",
    "upper_bound_bill = Q3_bill + 1 * IQR_bill\n",
    "\n",
    "# Calculate IQR for flipper_length_mm\n",
    "Q1_flip = df_cleaned[\"flipper_length_mm\"].quantile(0.25)\n",
    "Q3_flip = df_cleaned[\"flipper_length_mm\"].quantile(0.75)\n",
    "IQR_flip = Q3_flip - Q1_flip\n",
    "lower_bound_flip = Q1_flip - 1 * IQR_flip\n",
    "upper_bound_flip = Q3_flip + 1 * IQR_flip\n",
    "\n",
    "# Remove outliers from both features\n",
    "df_cleaned = df_cleaned[\n",
    "    (df_cleaned[\"bill_length_mm\"] >= lower_bound_bill) & (df_cleaned[\"bill_length_mm\"] <= upper_bound_bill) &\n",
    "    (df_cleaned[\"flipper_length_mm\"] >= lower_bound_flip) & (df_cleaned[\"flipper_length_mm\"] <= upper_bound_flip)\n",
    "]\n",
    "\n",
    "# Print how many rows remain after outlier removal\n",
    "print(f\"Remaining rows after outlier removal: {df_cleaned.shape[0]}\")\n"
   ]
  },
  {
   "cell_type": "code",
   "execution_count": 111,
   "metadata": {},
   "outputs": [
    {
     "data": {
      "image/png": "[encoded data removed]",
      "text/plain": [
       "<Figure size 800x600 with 1 Axes>"
      ]
     },
     "metadata": {},
     "output_type": "display_data"
    },
    {
     "data": {
      "image/png": "[encoded data removed]",
      "text/plain": [
       "<Figure size 800x600 with 1 Axes>"
      ]
     },
     "metadata": {},
     "output_type": "display_data"
    }
   ],
   "source": [
    "\n",
    "# Box plot for body_mass_g\n",
    "plt.figure(figsize=(8,6))\n",
    "sns.boxplot(data=df_cleaned[[\"body_mass_g\"]])\n",
    "plt.title(\"Boxplot of Body Mass (After Outlier Removal)\")\n",
    "plt.show()\n",
    "\n",
    "# Box plot for bill and flipper features\n",
    "plt.figure(figsize=(8,6))\n",
    "sns.boxplot(data=df_cleaned[[\"bill_length_mm\", \"flipper_length_mm\"]])\n",
    "plt.xticks(rotation=45)\n",
    "plt.title(\"Boxplots of Bill & Flipper Features (After Outlier Removal)\")\n",
    "plt.show()\n"
   ]
  },
  {
   "cell_type": "markdown",
   "metadata": {},
   "source": [
    "# 📌 Step 7: Splitting Data into Train & Test Sets\n",
    "To evaluate the model fairly, we split the dataset:\n",
    "- **80% training data** (for learning patterns).\n",
    "- **20% test data** (for model evaluation).\n",
    "- Ensures model **generalization** and prevents overfitting.\n"
   ]
  },
  {
   "cell_type": "code",
   "execution_count": 112,
   "metadata": {},
   "outputs": [
    {
     "name": "stdout",
     "output_type": "stream",
     "text": [
      "Training Set: (264, 7), Test Set: (66, 7)\n"
     ]
    }
   ],
   "source": [
    "from sklearn.model_selection import train_test_split\n",
    "\n",
    "# Define features (X) and target (y)\n",
    "X = df_cleaned.drop(columns=[\"body_mass_g\"])  # Features\n",
    "y = df_cleaned[\"body_mass_g\"]  # Target\n",
    "\n",
    "# Split into train and test sets (80% train, 20% test)\n",
    "X_train, X_test, y_train, y_test = train_test_split(X, y, test_size=0.2, random_state=42)\n",
    "\n",
    "# Display the shape of the sets\n",
    "print(f\"Training Set: {X_train.shape}, Test Set: {X_test.shape}\")\n"
   ]
  },
  {
   "cell_type": "markdown",
   "metadata": {},
   "source": [
    "# 📌 Step 8: Feature Scaling (Min-Max Normalization)\n",
    "Since our features (bill length, flipper length, etc.) have different scales, we apply **Min-Max Scaling**:\n",
    "- **Transforms data** to a standard range (0 to 1).\n",
    "- **Improves model performance** by ensuring all features have equal weight."
   ]
  },
  {
   "cell_type": "code",
   "execution_count": 113,
   "metadata": {},
   "outputs": [],
   "source": [
    "from sklearn.preprocessing import MinMaxScaler\n",
    "\n",
    "# Initialize scalers\n",
    "scaler_X = MinMaxScaler()\n",
    "scaler_y = MinMaxScaler()\n",
    "\n",
    "# Fit and transform only on training data\n",
    "X_train_scaled = scaler_X.fit_transform(X_train)\n",
    "y_train_scaled = scaler_y.fit_transform(y_train.values.reshape(-1,1))  # Must reshape y_train\n",
    "\n",
    "# Transform test data using the same scalers\n",
    "X_test_scaled = scaler_X.transform(X_test)\n",
    "y_test_scaled = scaler_y.transform(y_test.values.reshape(-1,1))  # Must reshape y_test\n",
    "\n",
    "# Convert back to DataFrame for clarity\n",
    "X_train = pd.DataFrame(X_train_scaled, columns=X_train.columns)\n",
    "X_test = pd.DataFrame(X_test_scaled, columns=X_test.columns)\n",
    "\n",
    "# Flatten y_train and y_test for modeling\n",
    "y_train = y_train_scaled.flatten()\n",
    "y_test = y_test_scaled.flatten()\n"
   ]
  },
  {
   "cell_type": "code",
   "execution_count": 114,
   "metadata": {},
   "outputs": [
    {
     "name": "stdout",
     "output_type": "stream",
     "text": [
      "🔹 X_train (Scaled) Head:\n"
     ]
    },
    {
     "data": {
      "text/html": [
       "<div>\n",
       "<style scoped>\n",
       "    .dataframe tbody tr th:only-of-type {\n",
       "        vertical-align: middle;\n",
       "    }\n",
       "\n",
       "    .dataframe tbody tr th {\n",
       "        vertical-align: top;\n",
       "    }\n",
       "\n",
       "    .dataframe thead th {\n",
       "        text-align: right;\n",
       "    }\n",
       "</style>\n",
       "<table border=\"1\" class=\"dataframe\">\n",
       "  <thead>\n",
       "    <tr style=\"text-align: right;\">\n",
       "      <th></th>\n",
       "      <th>bill_length_mm</th>\n",
       "      <th>flipper_length_mm</th>\n",
       "      <th>species_Adelie</th>\n",
       "      <th>species_Chinstrap</th>\n",
       "      <th>species_Gentoo</th>\n",
       "      <th>sex_female</th>\n",
       "      <th>sex_male</th>\n",
       "    </tr>\n",
       "  </thead>\n",
       "  <tbody>\n",
       "    <tr>\n",
       "      <th>0</th>\n",
       "      <td>0.453782</td>\n",
       "      <td>0.406780</td>\n",
       "      <td>1.0</td>\n",
       "      <td>0.0</td>\n",
       "      <td>0.0</td>\n",
       "      <td>0.0</td>\n",
       "      <td>1.0</td>\n",
       "    </tr>\n",
       "    <tr>\n",
       "      <th>1</th>\n",
       "      <td>0.735294</td>\n",
       "      <td>0.898305</td>\n",
       "      <td>0.0</td>\n",
       "      <td>0.0</td>\n",
       "      <td>1.0</td>\n",
       "      <td>0.0</td>\n",
       "      <td>1.0</td>\n",
       "    </tr>\n",
       "    <tr>\n",
       "      <th>2</th>\n",
       "      <td>0.159664</td>\n",
       "      <td>0.288136</td>\n",
       "      <td>1.0</td>\n",
       "      <td>0.0</td>\n",
       "      <td>0.0</td>\n",
       "      <td>1.0</td>\n",
       "      <td>0.0</td>\n",
       "    </tr>\n",
       "    <tr>\n",
       "      <th>3</th>\n",
       "      <td>0.352941</td>\n",
       "      <td>0.135593</td>\n",
       "      <td>1.0</td>\n",
       "      <td>0.0</td>\n",
       "      <td>0.0</td>\n",
       "      <td>0.0</td>\n",
       "      <td>1.0</td>\n",
       "    </tr>\n",
       "    <tr>\n",
       "      <th>4</th>\n",
       "      <td>0.516807</td>\n",
       "      <td>0.796610</td>\n",
       "      <td>0.0</td>\n",
       "      <td>0.0</td>\n",
       "      <td>1.0</td>\n",
       "      <td>0.0</td>\n",
       "      <td>1.0</td>\n",
       "    </tr>\n",
       "  </tbody>\n",
       "</table>\n",
       "</div>"
      ],
      "text/plain": [
       "   bill_length_mm  flipper_length_mm  species_Adelie  species_Chinstrap  \\\n",
       "0        0.453782           0.406780             1.0                0.0   \n",
       "1        0.735294           0.898305             0.0                0.0   \n",
       "2        0.159664           0.288136             1.0                0.0   \n",
       "3        0.352941           0.135593             1.0                0.0   \n",
       "4        0.516807           0.796610             0.0                0.0   \n",
       "\n",
       "   species_Gentoo  sex_female  sex_male  \n",
       "0             0.0         0.0       1.0  \n",
       "1             1.0         0.0       1.0  \n",
       "2             0.0         1.0       0.0  \n",
       "3             0.0         0.0       1.0  \n",
       "4             1.0         0.0       1.0  "
      ]
     },
     "metadata": {},
     "output_type": "display_data"
    },
    {
     "name": "stdout",
     "output_type": "stream",
     "text": [
      "\n",
      "🔹 X_test (Scaled) Head:\n"
     ]
    },
    {
     "data": {
      "text/html": [
       "<div>\n",
       "<style scoped>\n",
       "    .dataframe tbody tr th:only-of-type {\n",
       "        vertical-align: middle;\n",
       "    }\n",
       "\n",
       "    .dataframe tbody tr th {\n",
       "        vertical-align: top;\n",
       "    }\n",
       "\n",
       "    .dataframe thead th {\n",
       "        text-align: right;\n",
       "    }\n",
       "</style>\n",
       "<table border=\"1\" class=\"dataframe\">\n",
       "  <thead>\n",
       "    <tr style=\"text-align: right;\">\n",
       "      <th></th>\n",
       "      <th>bill_length_mm</th>\n",
       "      <th>flipper_length_mm</th>\n",
       "      <th>species_Adelie</th>\n",
       "      <th>species_Chinstrap</th>\n",
       "      <th>species_Gentoo</th>\n",
       "      <th>sex_female</th>\n",
       "      <th>sex_male</th>\n",
       "    </tr>\n",
       "  </thead>\n",
       "  <tbody>\n",
       "    <tr>\n",
       "      <th>0</th>\n",
       "      <td>0.105042</td>\n",
       "      <td>0.440678</td>\n",
       "      <td>1.0</td>\n",
       "      <td>0.0</td>\n",
       "      <td>0.0</td>\n",
       "      <td>0.0</td>\n",
       "      <td>1.0</td>\n",
       "    </tr>\n",
       "    <tr>\n",
       "      <th>1</th>\n",
       "      <td>0.697479</td>\n",
       "      <td>0.847458</td>\n",
       "      <td>0.0</td>\n",
       "      <td>0.0</td>\n",
       "      <td>1.0</td>\n",
       "      <td>0.0</td>\n",
       "      <td>1.0</td>\n",
       "    </tr>\n",
       "    <tr>\n",
       "      <th>2</th>\n",
       "      <td>0.289916</td>\n",
       "      <td>0.220339</td>\n",
       "      <td>1.0</td>\n",
       "      <td>0.0</td>\n",
       "      <td>0.0</td>\n",
       "      <td>0.0</td>\n",
       "      <td>1.0</td>\n",
       "    </tr>\n",
       "    <tr>\n",
       "      <th>3</th>\n",
       "      <td>0.121849</td>\n",
       "      <td>0.305085</td>\n",
       "      <td>1.0</td>\n",
       "      <td>0.0</td>\n",
       "      <td>0.0</td>\n",
       "      <td>1.0</td>\n",
       "      <td>0.0</td>\n",
       "    </tr>\n",
       "    <tr>\n",
       "      <th>4</th>\n",
       "      <td>0.121849</td>\n",
       "      <td>0.338983</td>\n",
       "      <td>1.0</td>\n",
       "      <td>0.0</td>\n",
       "      <td>0.0</td>\n",
       "      <td>1.0</td>\n",
       "      <td>0.0</td>\n",
       "    </tr>\n",
       "  </tbody>\n",
       "</table>\n",
       "</div>"
      ],
      "text/plain": [
       "   bill_length_mm  flipper_length_mm  species_Adelie  species_Chinstrap  \\\n",
       "0        0.105042           0.440678             1.0                0.0   \n",
       "1        0.697479           0.847458             0.0                0.0   \n",
       "2        0.289916           0.220339             1.0                0.0   \n",
       "3        0.121849           0.305085             1.0                0.0   \n",
       "4        0.121849           0.338983             1.0                0.0   \n",
       "\n",
       "   species_Gentoo  sex_female  sex_male  \n",
       "0             0.0         0.0       1.0  \n",
       "1             1.0         0.0       1.0  \n",
       "2             0.0         0.0       1.0  \n",
       "3             0.0         1.0       0.0  \n",
       "4             0.0         1.0       0.0  "
      ]
     },
     "metadata": {},
     "output_type": "display_data"
    },
    {
     "name": "stdout",
     "output_type": "stream",
     "text": [
      "\n",
      "🔹 y_train (Scaled) Head:\n"
     ]
    },
    {
     "data": {
      "text/html": [
       "<div>\n",
       "<style scoped>\n",
       "    .dataframe tbody tr th:only-of-type {\n",
       "        vertical-align: middle;\n",
       "    }\n",
       "\n",
       "    .dataframe tbody tr th {\n",
       "        vertical-align: top;\n",
       "    }\n",
       "\n",
       "    .dataframe thead th {\n",
       "        text-align: right;\n",
       "    }\n",
       "</style>\n",
       "<table border=\"1\" class=\"dataframe\">\n",
       "  <thead>\n",
       "    <tr style=\"text-align: right;\">\n",
       "      <th></th>\n",
       "      <th>0</th>\n",
       "    </tr>\n",
       "  </thead>\n",
       "  <tbody>\n",
       "    <tr>\n",
       "      <th>0</th>\n",
       "      <td>0.606061</td>\n",
       "    </tr>\n",
       "    <tr>\n",
       "      <th>1</th>\n",
       "      <td>0.909091</td>\n",
       "    </tr>\n",
       "    <tr>\n",
       "      <th>2</th>\n",
       "      <td>0.333333</td>\n",
       "    </tr>\n",
       "    <tr>\n",
       "      <th>3</th>\n",
       "      <td>0.378788</td>\n",
       "    </tr>\n",
       "    <tr>\n",
       "      <th>4</th>\n",
       "      <td>0.772727</td>\n",
       "    </tr>\n",
       "  </tbody>\n",
       "</table>\n",
       "</div>"
      ],
      "text/plain": [
       "          0\n",
       "0  0.606061\n",
       "1  0.909091\n",
       "2  0.333333\n",
       "3  0.378788\n",
       "4  0.772727"
      ]
     },
     "metadata": {},
     "output_type": "display_data"
    },
    {
     "name": "stdout",
     "output_type": "stream",
     "text": [
      "\n",
      "🔹 y_test (Scaled) Head:\n"
     ]
    },
    {
     "data": {
      "text/html": [
       "<div>\n",
       "<style scoped>\n",
       "    .dataframe tbody tr th:only-of-type {\n",
       "        vertical-align: middle;\n",
       "    }\n",
       "\n",
       "    .dataframe tbody tr th {\n",
       "        vertical-align: top;\n",
       "    }\n",
       "\n",
       "    .dataframe thead th {\n",
       "        text-align: right;\n",
       "    }\n",
       "</style>\n",
       "<table border=\"1\" class=\"dataframe\">\n",
       "  <thead>\n",
       "    <tr style=\"text-align: right;\">\n",
       "      <th></th>\n",
       "      <th>0</th>\n",
       "    </tr>\n",
       "  </thead>\n",
       "  <tbody>\n",
       "    <tr>\n",
       "      <th>0</th>\n",
       "      <td>0.515152</td>\n",
       "    </tr>\n",
       "    <tr>\n",
       "      <th>1</th>\n",
       "      <td>0.803030</td>\n",
       "    </tr>\n",
       "    <tr>\n",
       "      <th>2</th>\n",
       "      <td>0.287879</td>\n",
       "    </tr>\n",
       "    <tr>\n",
       "      <th>3</th>\n",
       "      <td>0.227273</td>\n",
       "    </tr>\n",
       "    <tr>\n",
       "      <th>4</th>\n",
       "      <td>0.310606</td>\n",
       "    </tr>\n",
       "  </tbody>\n",
       "</table>\n",
       "</div>"
      ],
      "text/plain": [
       "          0\n",
       "0  0.515152\n",
       "1  0.803030\n",
       "2  0.287879\n",
       "3  0.227273\n",
       "4  0.310606"
      ]
     },
     "metadata": {},
     "output_type": "display_data"
    }
   ],
   "source": [
    "# Display first few rows of X_train, X_test after scaling\n",
    "print(\"🔹 X_train (Scaled) Head:\")\n",
    "display(pd.DataFrame(X_train, columns=X.columns).head())\n",
    "\n",
    "print(\"\\n🔹 X_test (Scaled) Head:\")\n",
    "display(pd.DataFrame(X_test, columns=X.columns).head())\n",
    "\n",
    "# Display first few rows of y_train, y_test after scaling\n",
    "print(\"\\n🔹 y_train (Scaled) Head:\")\n",
    "display(pd.DataFrame(y_train).head())\n",
    "\n",
    "print(\"\\n🔹 y_test (Scaled) Head:\")\n",
    "display(pd.DataFrame(y_test).head())\n"
   ]
  },
  {
   "cell_type": "markdown",
   "metadata": {},
   "source": [
    "# 📌 Step 9: Training the Linear Regression Model\n",
    "A **linear regression model** is built to predict `body_mass_g` using selected features.\n",
    "- Model is trained on the training dataset.\n",
    "- It learns the relationships between independent variables (features) and the dependent variable (body mass).\n"
   ]
  },
  {
   "cell_type": "code",
   "execution_count": 115,
   "metadata": {},
   "outputs": [],
   "source": [
    "from sklearn.linear_model import LinearRegression\n",
    "\n",
    "# Initialize and train the model\n",
    "linear_model = LinearRegression()\n",
    "linear_model.fit(X_train, y_train)\n",
    "\n",
    "# Make predictions\n",
    "y_pred = linear_model.predict(X_test)\n"
   ]
  },
  {
   "cell_type": "markdown",
   "metadata": {},
   "source": [
    "# 📌 Step 10: Evaluating Model Performance\n",
    "To measure how well our model performs, we use:\n",
    "- **Mean Squared Error (MSE)**: Measures average squared difference between actual & predicted values.\n",
    "- **Root Mean Squared Error (RMSE)**: Similar to MSE but in original scale.\n",
    "- **Mean Absolute Error (MAE)**: Measures average absolute error in predictions.\n",
    "- **R-Squared (R²)**: Shows how much of the variance in `body_mass_g` is explained by our model.\n",
    "\n",
    "A high R² (~0.876) indicates **strong predictive power** 🎯.\n"
   ]
  },
  {
   "cell_type": "code",
   "execution_count": 116,
   "metadata": {},
   "outputs": [
    {
     "name": "stdout",
     "output_type": "stream",
     "text": [
      "📊 Linear Regression Model Performance:\n",
      "- Mean Squared Error (MSE): 0.007\n",
      "- Root Mean Squared Error (RMSE): 0.082\n",
      "- Mean Absolute Error (MAE): 0.066\n",
      "- R-Squared (R²): 0.876\n"
     ]
    }
   ],
   "source": [
    "from sklearn.metrics import mean_squared_error, r2_score, mean_absolute_error\n",
    "import numpy as np\n",
    "\n",
    "# Compute evaluation metrics\n",
    "mse = mean_squared_error(y_test, y_pred)\n",
    "rmse = np.sqrt(mse)\n",
    "mae = mean_absolute_error(y_test, y_pred)\n",
    "r2 = r2_score(y_test, y_pred)\n",
    "\n",
    "# Print results\n",
    "print(f\"📊 Linear Regression Model Performance:\")\n",
    "print(f\"- Mean Squared Error (MSE): {mse:.3f}\")\n",
    "print(f\"- Root Mean Squared Error (RMSE): {rmse:.3f}\")\n",
    "print(f\"- Mean Absolute Error (MAE): {mae:.3f}\")\n",
    "print(f\"- R-Squared (R²): {r2:.3f}\")\n"
   ]
  },
  {
   "cell_type": "code",
   "execution_count": 119,
   "metadata": {},
   "outputs": [
    {
     "name": "stdout",
     "output_type": "stream",
     "text": [
      "📊 **Linear Regression Model Performance on Training Set:**\n",
      "- Mean Squared Error (MSE): 0.008\n",
      "- Root Mean Squared Error (RMSE): 0.088\n",
      "- Mean Absolute Error (MAE): 0.071\n",
      "- R-Squared (R²): 0.868\n",
      "\n",
      "📊 **Linear Regression Model Performance on Validation Set:**\n",
      "- Mean Squared Error (MSE): 0.007\n",
      "- Root Mean Squared Error (RMSE): 0.082\n",
      "- Mean Absolute Error (MAE): 0.066\n",
      "- R-Squared (R²): 0.876\n"
     ]
    }
   ],
   "source": [
    "# Compute predictions for training set\n",
    "y_pred_train = linear_model.predict(X_train)\n",
    "\n",
    "# Compute evaluation metrics for training set\n",
    "mse_train = mean_squared_error(y_train, y_pred_train)\n",
    "rmse_train = np.sqrt(mse_train)\n",
    "mae_train = mean_absolute_error(y_train, y_pred_train)\n",
    "r2_train = r2_score(y_train, y_pred_train)\n",
    "\n",
    "# Print training performance metrics\n",
    "print(\"📊 **Linear Regression Model Performance on Training Set:**\")\n",
    "print(f\"- Mean Squared Error (MSE): {mse_train:.3f}\")\n",
    "print(f\"- Root Mean Squared Error (RMSE): {rmse_train:.3f}\")\n",
    "print(f\"- Mean Absolute Error (MAE): {mae_train:.3f}\")\n",
    "print(f\"- R-Squared (R²): {r2_train:.3f}\")\n",
    "\n",
    "# Compare with validation metrics (you already have these, but printing them again)\n",
    "print(\"\\n📊 **Linear Regression Model Performance on Validation Set:**\")\n",
    "print(f\"- Mean Squared Error (MSE): {mse:.3f}\")\n",
    "print(f\"- Root Mean Squared Error (RMSE): {rmse:.3f}\")\n",
    "print(f\"- Mean Absolute Error (MAE): {mae:.3f}\")\n",
    "print(f\"- R-Squared (R²): {r2:.3f}\")\n"
   ]
  },
  {
   "cell_type": "markdown",
   "metadata": {},
   "source": [
    "## 📊 Model Performance Analysis: Overfitting Check\n",
    "\n",
    "### **Comparison of Training vs. Validation Performance**\n",
    "| Metric | Training Set | Validation Set |\n",
    "|--------|-------------|---------------|\n",
    "| **Mean Squared Error (MSE)** | 0.008 | 0.007 |\n",
    "| **Root Mean Squared Error (RMSE)** | 0.088 | 0.082 |\n",
    "| **Mean Absolute Error (MAE)** | 0.071 | 0.066 |\n",
    "| **R-Squared (R²)** | 0.868 | 0.876 |\n",
    "\n",
    "### **Does the Model Overfit?**\n",
    "✅ **No, the model is NOT overfitting.**  \n",
    "The training and validation scores are very close, meaning the model generalizes well to unseen data. Key observations:\n",
    "- **R² values are similar** (0.868 vs. 0.876), indicating consistent predictive power.\n",
    "- **Errors (MSE, RMSE, MAE) are comparable**, confirming that the model doesn't memorize the training data.\n",
    "- **Validation set performs slightly better** than training, which is unusual but not a concern.\n",
    "\n",
    "### **Conclusion**\n",
    "The model **does not suffer from overfitting** and is well-generalized.  \n"
   ]
  },
  {
   "cell_type": "markdown",
   "metadata": {},
   "source": [
    "## 🔍 Model Performance for Predicting `body_mass_g`\n",
    "\n",
    "### 1️⃣ Mean Squared Error (MSE)\n",
    "- **Result:** `0.007`\n",
    "- **Interpretation:**\n",
    "  - This is **extremely low**, meaning the model's predictions are **very close** to the actual values.\n",
    "  - Since MSE squares the errors, lower values indicate **fewer large deviations** in predictions.\n",
    "\n",
    "### 2️⃣ Root Mean Squared Error (RMSE)\n",
    "- **Result:** `0.082`\n",
    "- **Interpretation:**\n",
    "  - RMSE represents the **average error in the same units** as the target variable (`body_mass_g` after scaling).\n",
    "  - Since the dataset is **normalized**, RMSE near **0** suggests the model makes **very minimal errors** in prediction.\n",
    "\n",
    "### 3️⃣ Mean Absolute Error (MAE)\n",
    "- **Result:** `0.066`\n",
    "- **Interpretation:**\n",
    "  - On average, the model's predictions are **only 0.079 units away** from the actual values.\n",
    "  - The model is making **very small** errors on average.\n",
    "\n",
    "### 4️⃣ R-Squared ( \\(R^2\\) )\n",
    "- **Result:** `0.876`\n",
    "- **Interpretation:**\n",
    "  - This means **87.6% of the variance** in `body_mass_g` is explained by the features.\n",
    "  - A value this high suggests the model has **strong predictive power** and captures most of the relationship between the input features (`bill_length`, `flipper_length`, `species`, `sex`) and `body_mass_g`.\n",
    "\n",
    "---\n",
    "\n",
    "## ✅ Final Conclusion\n",
    "1. **MSE, RMSE, and MAE are very low** → The model makes **minimal errors** in predicting `body_mass_g`.\n",
    "2. **R² = 0.876** → The model explains **most of the variability**, showing a **strong relationship** between the chosen features and body mass.\n",
    "3. **Feature Selection & Cleaning Paid Off** 🎯:\n",
    "   - Dropping irrelevant features (`island`, `bill_depth_mm`) improved performance.\n",
    "   - Removing **outliers** helped stabilize the model.\n",
    "   - **Scaling** ensured all features had equal importance.\n",
    "\n",
    "🚀 **Final Verdict:** This is an **excellent model** with **strong predictive ability** for estimating penguin body mass! 🔥\n"
   ]
  },
  {
   "cell_type": "code",
   "execution_count": null,
   "metadata": {},
   "outputs": [
    {
     "name": "stdout",
     "output_type": "stream",
     "text": [
      "🔵 Polynomial Regression (Degree 2) Performance:\n",
      " - Mean Squared Error (MSE): 0.006\n",
      " - Root Mean Squared Error (RMSE): 0.076\n",
      " - Mean Absolute Error (MAE): 0.061\n",
      " - R-Squared (R²): 0.894\n"
     ]
    }
   ],
   "source": [
    "from sklearn.preprocessing import PolynomialFeatures\n",
    "from sklearn.pipeline import make_pipeline\n",
    "from sklearn.linear_model import LinearRegression\n",
    "from sklearn.metrics import mean_squared_error, r2_score, mean_absolute_error\n",
    "import numpy as np\n",
    "\n",
    "# Define the polynomial degree \n",
    "degree = 2\n",
    "\n",
    "# Create a polynomial transformation pipeline with a linear regression model\n",
    "poly_model = make_pipeline(PolynomialFeatures(degree), LinearRegression())\n",
    "\n",
    "# Train the polynomial model\n",
    "poly_model.fit(X_train, y_train)\n",
    "\n",
    "# Make predictions\n",
    "y_pred_poly = poly_model.predict(X_test)\n",
    "\n",
    "# Compute evaluation metrics\n",
    "mse_poly = mean_squared_error(y_test, y_pred_poly)\n",
    "rmse_poly = np.sqrt(mse_poly)\n",
    "mae_poly = mean_absolute_error(y_test, y_pred_poly)\n",
    "r2_poly = r2_score(y_test, y_pred_poly)\n",
    "\n",
    "# Print results\n",
    "print(f\"🔵 Polynomial Regression (Degree {degree}) Performance:\")\n",
    "print(f\" - Mean Squared Error (MSE): {mse_poly:.3f}\")\n",
    "print(f\" - Root Mean Squared Error (RMSE): {rmse_poly:.3f}\")\n",
    "print(f\" - Mean Absolute Error (MAE): {mae_poly:.3f}\")\n",
    "print(f\" - R-Squared (R²): {r2_poly:.3f}\")\n"
   ]
  },
  {
   "cell_type": "code",
   "execution_count": null,
   "metadata": {},
   "outputs": [
    {
     "name": "stdout",
     "output_type": "stream",
     "text": [
      "✅ Model and Scalers saved successfully!\n"
     ]
    }
   ],
   "source": [
    "import joblib\n",
    "\n",
    "# Save the model\n",
    "joblib.dump(linear_model, \"penguin_body_mass_model.pkl\")\n",
    "\n",
    "# Save the scalers separately\n",
    "joblib.dump(scaler_X, \"scaler_X.pkl\")\n",
    "joblib.dump(scaler_y, \"scaler_y.pkl\")\n",
    "\n",
    "print(\"✅ Model and Scalers saved successfully!\")\n"
   ]
  },
  {
   "cell_type": "code",
   "execution_count": null,
   "metadata": {},
   "outputs": [
    {
     "name": "stdout",
     "output_type": "stream",
     "text": [
      "✅ Test data saved successfully!\n"
     ]
    }
   ],
   "source": [
    "import joblib\n",
    "\n",
    "# Save X_test and y_test for later use in Streamlit\n",
    "joblib.dump(X_test, \"X_test.pkl\")\n",
    "joblib.dump(y_test, \"y_test.pkl\")\n",
    "\n",
    "print(\"✅ Test data saved successfully!\")\n"
   ]
  },
  {
   "cell_type": "code",
   "execution_count": null,
   "metadata": {},
   "outputs": [
    {
     "name": "stdout",
     "output_type": "stream",
     "text": [
      "✅ Model performance saved successfully!\n"
     ]
    }
   ],
   "source": [
    "import joblib\n",
    "\n",
    "# Store metrics in a dictionary\n",
    "metrics = {\n",
    "    \"MSE\": mse,\n",
    "    \"RMSE\": rmse,\n",
    "    \"MAE\": mae,\n",
    "    \"R2\": r2\n",
    "}\n",
    "\n",
    "# Save the dictionary as a file\n",
    "joblib.dump(metrics, \"model_performance.pkl\")\n",
    "\n",
    "print(\"✅ Model performance saved successfully!\")\n",
    "\n"
   ]
  }
 ],
 "metadata": {
  "kernelspec": {
   "display_name": "Python 3",
   "language": "python",
   "name": "python3"
  },
  "language_info": {
   "codemirror_mode": {
    "name": "ipython",
    "version": 3
   },
   "file_extension": ".py",
   "mimetype": "text/x-python",
   "name": "python",
   "nbconvert_exporter": "python",
   "pygments_lexer": "ipython3",
   "version": "3.11.9"
  }
 },
 "nbformat": 4,
 "nbformat_minor": 2
}
